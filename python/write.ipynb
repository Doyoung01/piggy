{
 "cells": [
  {
   "cell_type": "code",
   "execution_count": 45,
   "metadata": {},
   "outputs": [],
   "source": [
    "import pandas as pd\n",
    "import openpyxl"
   ]
  },
  {
   "cell_type": "code",
   "execution_count": 69,
   "metadata": {},
   "outputs": [],
   "source": [
    "class journal:\n",
    "    length = 0\n",
    "    def __init__(self, index, title, content, imoji):\n",
    "        self.index = index # int\n",
    "        self.title = title # string\n",
    "        self.content = content # string\n",
    "        self.imoji = imoji # int\n",
    "        self.often = 0\n",
    "\n",
    "    def get_len():\n",
    "        return journal.length\n",
    "    \n",
    "    def plus_len():\n",
    "        journal.length += 1\n",
    "\n",
    "    '''\n",
    "    def minus_len():\n",
    "        journal.length -= 1\n",
    "    '''"
   ]
  },
  {
   "cell_type": "code",
   "execution_count": 70,
   "metadata": {},
   "outputs": [
    {
     "name": "stdout",
     "output_type": "stream",
     "text": [
      "Empty DataFrame\n",
      "Columns: [title, content, imoji, index, often]\n",
      "Index: []\n"
     ]
    }
   ],
   "source": [
    "df = pd.read_csv('./test_file.csv')\n",
    "print(df)"
   ]
  },
  {
   "cell_type": "code",
   "execution_count": 71,
   "metadata": {},
   "outputs": [],
   "source": [
    "# 사진, 발행일자 안 넣음\n",
    "def write(title, content, imoji):\n",
    "    df = pd.read_csv('./test_file.csv')\n",
    "    print(df)\n",
    "\n",
    "    l = journal.get_len()\n",
    "    print(l)\n",
    "    tmp = journal(l, title, content, imoji)\n",
    "\n",
    "    journal.plus_len()\n",
    "    print(tmp.title, tmp.content, tmp.imoji, tmp.index, tmp.often)\n",
    "\n",
    "    data = {\n",
    "        'index': [tmp.index],\n",
    "        'title': [tmp.title],\n",
    "        'content': [tmp.content],\n",
    "        'imoji': [tmp.imoji],\n",
    "        'often': [tmp.often]\n",
    "    }\n",
    "    tmp_df = pd.DataFrame(data)\n",
    "    df = pd.concat([df, tmp_df])\n",
    "    print(df)\n",
    "\n",
    "    df.to_csv('./test_file.csv', index=False)"
   ]
  },
  {
   "cell_type": "code",
   "execution_count": 72,
   "metadata": {},
   "outputs": [
    {
     "name": "stdout",
     "output_type": "stream",
     "text": [
      "Empty DataFrame\n",
      "Columns: [title, content, imoji, index, often]\n",
      "Index: []\n",
      "0\n",
      "안녕 나는 도영 1 0 0\n",
      "  title content imoji index often\n",
      "0    안녕   나는 도영     1     0     0\n"
     ]
    }
   ],
   "source": [
    "write('안녕', '나는 도영', 1)"
   ]
  },
  {
   "cell_type": "code",
   "execution_count": 73,
   "metadata": {},
   "outputs": [
    {
     "name": "stdout",
     "output_type": "stream",
     "text": [
      "  title content  imoji  index  often\n",
      "0    안녕   나는 도영      1      0      0\n",
      "1\n",
      "두번째 테스트입니다 3 1 0\n",
      "  title content  imoji  index  often\n",
      "0    안녕   나는 도영      1      0      0\n",
      "0   두번째  테스트입니다      3      1      0\n"
     ]
    }
   ],
   "source": [
    "write('두번째', '테스트입니다', 3)"
   ]
  },
  {
   "cell_type": "code",
   "execution_count": null,
   "metadata": {},
   "outputs": [],
   "source": []
  }
 ],
 "metadata": {
  "kernelspec": {
   "display_name": "Python 3",
   "language": "python",
   "name": "python3"
  },
  "language_info": {
   "codemirror_mode": {
    "name": "ipython",
    "version": 3
   },
   "file_extension": ".py",
   "mimetype": "text/x-python",
   "name": "python",
   "nbconvert_exporter": "python",
   "pygments_lexer": "ipython3",
   "version": "3.11.1"
  },
  "orig_nbformat": 4,
  "vscode": {
   "interpreter": {
    "hash": "c261aea317cc0286b3b3261fbba9abdec21eaa57589985bb7a274bf54d6cc0a7"
   }
  }
 },
 "nbformat": 4,
 "nbformat_minor": 2
}
